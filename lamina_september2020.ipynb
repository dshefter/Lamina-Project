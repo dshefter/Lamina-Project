{
 "cells": [
  {
   "cell_type": "code",
   "execution_count": 27,
   "metadata": {},
   "outputs": [],
   "source": [
    "# Imports\n",
    "\n",
    "import numpy as np\n",
    "import pandas as pd\n",
    "import pickle as pkl\n",
    "import matplotlib.pyplot as plt\n",
    "from mpl_toolkits.mplot3d import Axes3D\n",
    "import seaborn as sns\n",
    "import plotly.express as px\n",
    "from sklearn import decomposition\n",
    "from sklearn.decomposition import PCA\n",
    "from sklearn import datasets\n",
    "from sklearn import preprocessing\n",
    "import scipy.stats"
   ]
  },
  {
   "cell_type": "code",
   "execution_count": 48,
   "metadata": {
    "collapsed": true,
    "jupyter": {
     "outputs_hidden": true
    }
   },
   "outputs": [
    {
     "data": {
      "text/html": [
       "<div>\n",
       "<style scoped>\n",
       "    .dataframe tbody tr th:only-of-type {\n",
       "        vertical-align: middle;\n",
       "    }\n",
       "\n",
       "    .dataframe tbody tr th {\n",
       "        vertical-align: top;\n",
       "    }\n",
       "\n",
       "    .dataframe thead th {\n",
       "        text-align: right;\n",
       "    }\n",
       "</style>\n",
       "<table border=\"1\" class=\"dataframe\">\n",
       "  <thead>\n",
       "    <tr style=\"text-align: right;\">\n",
       "      <th></th>\n",
       "      <th>link_id</th>\n",
       "      <th>cx_id</th>\n",
       "      <th>pre_neuron</th>\n",
       "      <th>pre_om</th>\n",
       "      <th>pre_type</th>\n",
       "      <th>pre_skel</th>\n",
       "      <th>post_neuron</th>\n",
       "      <th>post_om</th>\n",
       "      <th>post_type</th>\n",
       "      <th>post_skel</th>\n",
       "    </tr>\n",
       "  </thead>\n",
       "  <tbody>\n",
       "    <tr>\n",
       "      <th>0</th>\n",
       "      <td>194220</td>\n",
       "      <td>276258</td>\n",
       "      <td>omB6_LN</td>\n",
       "      <td>B6</td>\n",
       "      <td>LMC_N</td>\n",
       "      <td>25</td>\n",
       "      <td>omB6_L1</td>\n",
       "      <td>B6</td>\n",
       "      <td>LMC_1</td>\n",
       "      <td>175606</td>\n",
       "    </tr>\n",
       "    <tr>\n",
       "      <th>1</th>\n",
       "      <td>175596</td>\n",
       "      <td>276258</td>\n",
       "      <td>omB6_LN</td>\n",
       "      <td>B6</td>\n",
       "      <td>LMC_N</td>\n",
       "      <td>25</td>\n",
       "      <td>omB6_L2</td>\n",
       "      <td>B6</td>\n",
       "      <td>LMC_2</td>\n",
       "      <td>44725</td>\n",
       "    </tr>\n",
       "    <tr>\n",
       "      <th>2</th>\n",
       "      <td>175139</td>\n",
       "      <td>276258</td>\n",
       "      <td>omB6_LN</td>\n",
       "      <td>B6</td>\n",
       "      <td>LMC_N</td>\n",
       "      <td>25</td>\n",
       "      <td>omB6_L1</td>\n",
       "      <td>B6</td>\n",
       "      <td>LMC_1</td>\n",
       "      <td>175606</td>\n",
       "    </tr>\n",
       "    <tr>\n",
       "      <th>3</th>\n",
       "      <td>175128</td>\n",
       "      <td>276258</td>\n",
       "      <td>omB6_LN</td>\n",
       "      <td>B6</td>\n",
       "      <td>LMC_N</td>\n",
       "      <td>25</td>\n",
       "      <td>omB6_R3</td>\n",
       "      <td>B6</td>\n",
       "      <td>R3R6</td>\n",
       "      <td>174970</td>\n",
       "    </tr>\n",
       "    <tr>\n",
       "      <th>4</th>\n",
       "      <td>175628</td>\n",
       "      <td>277482</td>\n",
       "      <td>omB6_LN</td>\n",
       "      <td>B6</td>\n",
       "      <td>LMC_N</td>\n",
       "      <td>25</td>\n",
       "      <td>168408</td>\n",
       "      <td>UNKNOWN</td>\n",
       "      <td>UNKNOWN</td>\n",
       "      <td>168408</td>\n",
       "    </tr>\n",
       "    <tr>\n",
       "      <th>...</th>\n",
       "      <td>...</td>\n",
       "      <td>...</td>\n",
       "      <td>...</td>\n",
       "      <td>...</td>\n",
       "      <td>...</td>\n",
       "      <td>...</td>\n",
       "      <td>...</td>\n",
       "      <td>...</td>\n",
       "      <td>...</td>\n",
       "      <td>...</td>\n",
       "    </tr>\n",
       "    <tr>\n",
       "      <th>20626</th>\n",
       "      <td>318465</td>\n",
       "      <td>479967</td>\n",
       "      <td>omC2_centri_nc</td>\n",
       "      <td>C2</td>\n",
       "      <td>centri</td>\n",
       "      <td>319210</td>\n",
       "      <td>omC2_centri_nc</td>\n",
       "      <td>C2</td>\n",
       "      <td>centri</td>\n",
       "      <td>319210</td>\n",
       "    </tr>\n",
       "    <tr>\n",
       "      <th>20627</th>\n",
       "      <td>318468</td>\n",
       "      <td>479967</td>\n",
       "      <td>omC2_centri_nc</td>\n",
       "      <td>C2</td>\n",
       "      <td>centri</td>\n",
       "      <td>319210</td>\n",
       "      <td>omC2_R4_nc</td>\n",
       "      <td>C2</td>\n",
       "      <td>R1R4</td>\n",
       "      <td>294885</td>\n",
       "    </tr>\n",
       "    <tr>\n",
       "      <th>20628</th>\n",
       "      <td>318467</td>\n",
       "      <td>479967</td>\n",
       "      <td>omC2_centri_nc</td>\n",
       "      <td>C2</td>\n",
       "      <td>centri</td>\n",
       "      <td>319210</td>\n",
       "      <td>omC2_L1_nc</td>\n",
       "      <td>C2</td>\n",
       "      <td>LMC_1</td>\n",
       "      <td>309836</td>\n",
       "    </tr>\n",
       "    <tr>\n",
       "      <th>20629</th>\n",
       "      <td>318466</td>\n",
       "      <td>479967</td>\n",
       "      <td>omC2_centri_nc</td>\n",
       "      <td>C2</td>\n",
       "      <td>centri</td>\n",
       "      <td>319210</td>\n",
       "      <td>omC2_R7p_nc</td>\n",
       "      <td>C2</td>\n",
       "      <td>R7p</td>\n",
       "      <td>294545</td>\n",
       "    </tr>\n",
       "    <tr>\n",
       "      <th>20630</th>\n",
       "      <td>318464</td>\n",
       "      <td>479967</td>\n",
       "      <td>omC2_centri_nc</td>\n",
       "      <td>C2</td>\n",
       "      <td>centri</td>\n",
       "      <td>319210</td>\n",
       "      <td>omC2_R5_nc</td>\n",
       "      <td>C2</td>\n",
       "      <td>R2R5</td>\n",
       "      <td>295593</td>\n",
       "    </tr>\n",
       "  </tbody>\n",
       "</table>\n",
       "<p>20631 rows × 10 columns</p>\n",
       "</div>"
      ],
      "text/plain": [
       "      link_id   cx_id      pre_neuron pre_om pre_type pre_skel  \\\n",
       "0      194220  276258         omB6_LN     B6    LMC_N       25   \n",
       "1      175596  276258         omB6_LN     B6    LMC_N       25   \n",
       "2      175139  276258         omB6_LN     B6    LMC_N       25   \n",
       "3      175128  276258         omB6_LN     B6    LMC_N       25   \n",
       "4      175628  277482         omB6_LN     B6    LMC_N       25   \n",
       "...       ...     ...             ...    ...      ...      ...   \n",
       "20626  318465  479967  omC2_centri_nc     C2   centri   319210   \n",
       "20627  318468  479967  omC2_centri_nc     C2   centri   319210   \n",
       "20628  318467  479967  omC2_centri_nc     C2   centri   319210   \n",
       "20629  318466  479967  omC2_centri_nc     C2   centri   319210   \n",
       "20630  318464  479967  omC2_centri_nc     C2   centri   319210   \n",
       "\n",
       "          post_neuron  post_om post_type post_skel  \n",
       "0             omB6_L1       B6     LMC_1    175606  \n",
       "1             omB6_L2       B6     LMC_2     44725  \n",
       "2             omB6_L1       B6     LMC_1    175606  \n",
       "3             omB6_R3       B6      R3R6    174970  \n",
       "4              168408  UNKNOWN   UNKNOWN    168408  \n",
       "...               ...      ...       ...       ...  \n",
       "20626  omC2_centri_nc       C2    centri    319210  \n",
       "20627      omC2_R4_nc       C2      R1R4    294885  \n",
       "20628      omC2_L1_nc       C2     LMC_1    309836  \n",
       "20629     omC2_R7p_nc       C2       R7p    294545  \n",
       "20630      omC2_R5_nc       C2      R2R5    295593  \n",
       "\n",
       "[20631 rows x 10 columns]"
      ]
     },
     "metadata": {},
     "output_type": "display_data"
    },
    {
     "data": {
      "text/html": [
       "<div>\n",
       "<style scoped>\n",
       "    .dataframe tbody tr th:only-of-type {\n",
       "        vertical-align: middle;\n",
       "    }\n",
       "\n",
       "    .dataframe tbody tr th {\n",
       "        vertical-align: top;\n",
       "    }\n",
       "\n",
       "    .dataframe thead th {\n",
       "        text-align: right;\n",
       "    }\n",
       "</style>\n",
       "<table border=\"1\" class=\"dataframe\">\n",
       "  <thead>\n",
       "    <tr style=\"text-align: right;\">\n",
       "      <th></th>\n",
       "      <th>x</th>\n",
       "      <th>y</th>\n",
       "      <th>z</th>\n",
       "    </tr>\n",
       "  </thead>\n",
       "  <tbody>\n",
       "    <tr>\n",
       "      <th>100013</th>\n",
       "      <td>34692.0</td>\n",
       "      <td>69808.0</td>\n",
       "      <td>22740.0</td>\n",
       "    </tr>\n",
       "    <tr>\n",
       "      <th>100019</th>\n",
       "      <td>34480.0</td>\n",
       "      <td>69906.9</td>\n",
       "      <td>22972.0</td>\n",
       "    </tr>\n",
       "    <tr>\n",
       "      <th>100028</th>\n",
       "      <td>33956.0</td>\n",
       "      <td>69872.0</td>\n",
       "      <td>22682.0</td>\n",
       "    </tr>\n",
       "    <tr>\n",
       "      <th>100042</th>\n",
       "      <td>33472.0</td>\n",
       "      <td>70016.0</td>\n",
       "      <td>22532.7</td>\n",
       "    </tr>\n",
       "    <tr>\n",
       "      <th>100050</th>\n",
       "      <td>33716.0</td>\n",
       "      <td>70016.0</td>\n",
       "      <td>22618.7</td>\n",
       "    </tr>\n",
       "    <tr>\n",
       "      <th>...</th>\n",
       "      <td>...</td>\n",
       "      <td>...</td>\n",
       "      <td>...</td>\n",
       "    </tr>\n",
       "    <tr>\n",
       "      <th>99945</th>\n",
       "      <td>35968.0</td>\n",
       "      <td>69148.0</td>\n",
       "      <td>21728.0</td>\n",
       "    </tr>\n",
       "    <tr>\n",
       "      <th>99953</th>\n",
       "      <td>35736.0</td>\n",
       "      <td>69612.0</td>\n",
       "      <td>21960.0</td>\n",
       "    </tr>\n",
       "    <tr>\n",
       "      <th>99964</th>\n",
       "      <td>35196.0</td>\n",
       "      <td>69552.0</td>\n",
       "      <td>22286.0</td>\n",
       "    </tr>\n",
       "    <tr>\n",
       "      <th>99975</th>\n",
       "      <td>35488.0</td>\n",
       "      <td>69744.0</td>\n",
       "      <td>22676.0</td>\n",
       "    </tr>\n",
       "    <tr>\n",
       "      <th>99990</th>\n",
       "      <td>35066.0</td>\n",
       "      <td>69832.0</td>\n",
       "      <td>22982.0</td>\n",
       "    </tr>\n",
       "  </tbody>\n",
       "</table>\n",
       "<p>3052 rows × 3 columns</p>\n",
       "</div>"
      ],
      "text/plain": [
       "              x        y        z\n",
       "100013  34692.0  69808.0  22740.0\n",
       "100019  34480.0  69906.9  22972.0\n",
       "100028  33956.0  69872.0  22682.0\n",
       "100042  33472.0  70016.0  22532.7\n",
       "100050  33716.0  70016.0  22618.7\n",
       "...         ...      ...      ...\n",
       "99945   35968.0  69148.0  21728.0\n",
       "99953   35736.0  69612.0  21960.0\n",
       "99964   35196.0  69552.0  22286.0\n",
       "99975   35488.0  69744.0  22676.0\n",
       "99990   35066.0  69832.0  22982.0\n",
       "\n",
       "[3052 rows x 3 columns]"
      ]
     },
     "metadata": {},
     "output_type": "display_data"
    }
   ],
   "source": [
    "# Reading in pickle files\n",
    "\n",
    "# File of all connectors with information about om, pre_type, etc\n",
    "links = pd.read_pickle(\"/Users/deenashefter/Downloads/200506_linkdf.pickle\", compression='infer')\n",
    "df_links = pd.DataFrame(links)\n",
    "display(df_links)\n",
    "\n",
    "# File of all connectors with their xyz coordinates\n",
    "cx_coords = pd.read_pickle(\"/Users/deenashefter/Downloads/200506_cxcoords.pickle\", compression='infer')\n",
    "df_cx_coords = pd.DataFrame(cx_coords)\n",
    "display(df_cx_coords)"
   ]
  },
  {
   "cell_type": "code",
   "execution_count": 49,
   "metadata": {
    "collapsed": true,
    "jupyter": {
     "outputs_hidden": true
    }
   },
   "outputs": [
    {
     "data": {
      "text/html": [
       "<div>\n",
       "<style scoped>\n",
       "    .dataframe tbody tr th:only-of-type {\n",
       "        vertical-align: middle;\n",
       "    }\n",
       "\n",
       "    .dataframe tbody tr th {\n",
       "        vertical-align: top;\n",
       "    }\n",
       "\n",
       "    .dataframe thead th {\n",
       "        text-align: right;\n",
       "    }\n",
       "</style>\n",
       "<table border=\"1\" class=\"dataframe\">\n",
       "  <thead>\n",
       "    <tr style=\"text-align: right;\">\n",
       "      <th></th>\n",
       "      <th>cx_id</th>\n",
       "      <th>pre_om</th>\n",
       "      <th>pre_type</th>\n",
       "      <th>post_om</th>\n",
       "      <th>post_type</th>\n",
       "      <th>x</th>\n",
       "      <th>y</th>\n",
       "      <th>z</th>\n",
       "    </tr>\n",
       "  </thead>\n",
       "  <tbody>\n",
       "    <tr>\n",
       "      <th>0</th>\n",
       "      <td>276258</td>\n",
       "      <td>B6</td>\n",
       "      <td>LMC_N</td>\n",
       "      <td>B6</td>\n",
       "      <td>LMC_1</td>\n",
       "      <td>31888.0</td>\n",
       "      <td>71926.0</td>\n",
       "      <td>18790.0</td>\n",
       "    </tr>\n",
       "    <tr>\n",
       "      <th>1</th>\n",
       "      <td>276258</td>\n",
       "      <td>B6</td>\n",
       "      <td>LMC_N</td>\n",
       "      <td>B6</td>\n",
       "      <td>LMC_2</td>\n",
       "      <td>31888.0</td>\n",
       "      <td>71926.0</td>\n",
       "      <td>18790.0</td>\n",
       "    </tr>\n",
       "    <tr>\n",
       "      <th>3</th>\n",
       "      <td>276258</td>\n",
       "      <td>B6</td>\n",
       "      <td>LMC_N</td>\n",
       "      <td>B6</td>\n",
       "      <td>R3R6</td>\n",
       "      <td>31888.0</td>\n",
       "      <td>71926.0</td>\n",
       "      <td>18790.0</td>\n",
       "    </tr>\n",
       "    <tr>\n",
       "      <th>5</th>\n",
       "      <td>277482</td>\n",
       "      <td>B6</td>\n",
       "      <td>LMC_N</td>\n",
       "      <td>B6</td>\n",
       "      <td>LMC_1</td>\n",
       "      <td>35203.0</td>\n",
       "      <td>69086.0</td>\n",
       "      <td>18153.0</td>\n",
       "    </tr>\n",
       "    <tr>\n",
       "      <th>6</th>\n",
       "      <td>414327</td>\n",
       "      <td>E7</td>\n",
       "      <td>LMC_N</td>\n",
       "      <td>E7</td>\n",
       "      <td>LMC_1</td>\n",
       "      <td>35680.0</td>\n",
       "      <td>72202.4</td>\n",
       "      <td>25040.0</td>\n",
       "    </tr>\n",
       "    <tr>\n",
       "      <th>...</th>\n",
       "      <td>...</td>\n",
       "      <td>...</td>\n",
       "      <td>...</td>\n",
       "      <td>...</td>\n",
       "      <td>...</td>\n",
       "      <td>...</td>\n",
       "      <td>...</td>\n",
       "      <td>...</td>\n",
       "    </tr>\n",
       "    <tr>\n",
       "      <th>20626</th>\n",
       "      <td>479967</td>\n",
       "      <td>C2</td>\n",
       "      <td>centri</td>\n",
       "      <td>C2</td>\n",
       "      <td>centri</td>\n",
       "      <td>29532.0</td>\n",
       "      <td>69569.7</td>\n",
       "      <td>34520.0</td>\n",
       "    </tr>\n",
       "    <tr>\n",
       "      <th>20627</th>\n",
       "      <td>479967</td>\n",
       "      <td>C2</td>\n",
       "      <td>centri</td>\n",
       "      <td>C2</td>\n",
       "      <td>R1R4</td>\n",
       "      <td>29532.0</td>\n",
       "      <td>69569.7</td>\n",
       "      <td>34520.0</td>\n",
       "    </tr>\n",
       "    <tr>\n",
       "      <th>20628</th>\n",
       "      <td>479967</td>\n",
       "      <td>C2</td>\n",
       "      <td>centri</td>\n",
       "      <td>C2</td>\n",
       "      <td>LMC_1</td>\n",
       "      <td>29532.0</td>\n",
       "      <td>69569.7</td>\n",
       "      <td>34520.0</td>\n",
       "    </tr>\n",
       "    <tr>\n",
       "      <th>20629</th>\n",
       "      <td>479967</td>\n",
       "      <td>C2</td>\n",
       "      <td>centri</td>\n",
       "      <td>C2</td>\n",
       "      <td>R7p</td>\n",
       "      <td>29532.0</td>\n",
       "      <td>69569.7</td>\n",
       "      <td>34520.0</td>\n",
       "    </tr>\n",
       "    <tr>\n",
       "      <th>20630</th>\n",
       "      <td>479967</td>\n",
       "      <td>C2</td>\n",
       "      <td>centri</td>\n",
       "      <td>C2</td>\n",
       "      <td>R2R5</td>\n",
       "      <td>29532.0</td>\n",
       "      <td>69569.7</td>\n",
       "      <td>34520.0</td>\n",
       "    </tr>\n",
       "  </tbody>\n",
       "</table>\n",
       "<p>12720 rows × 8 columns</p>\n",
       "</div>"
      ],
      "text/plain": [
       "        cx_id pre_om pre_type post_om post_type        x        y        z\n",
       "0      276258     B6    LMC_N      B6     LMC_1  31888.0  71926.0  18790.0\n",
       "1      276258     B6    LMC_N      B6     LMC_2  31888.0  71926.0  18790.0\n",
       "3      276258     B6    LMC_N      B6      R3R6  31888.0  71926.0  18790.0\n",
       "5      277482     B6    LMC_N      B6     LMC_1  35203.0  69086.0  18153.0\n",
       "6      414327     E7    LMC_N      E7     LMC_1  35680.0  72202.4  25040.0\n",
       "...       ...    ...      ...     ...       ...      ...      ...      ...\n",
       "20626  479967     C2   centri      C2    centri  29532.0  69569.7  34520.0\n",
       "20627  479967     C2   centri      C2      R1R4  29532.0  69569.7  34520.0\n",
       "20628  479967     C2   centri      C2     LMC_1  29532.0  69569.7  34520.0\n",
       "20629  479967     C2   centri      C2       R7p  29532.0  69569.7  34520.0\n",
       "20630  479967     C2   centri      C2      R2R5  29532.0  69569.7  34520.0\n",
       "\n",
       "[12720 rows x 8 columns]"
      ]
     },
     "execution_count": 49,
     "metadata": {},
     "output_type": "execute_result"
    }
   ],
   "source": [
    "# Preprocessing function, making dataframe of index cx_id and pre_om, pre_type, coordinates\n",
    "\n",
    "def preprocessing():\n",
    "    df_new = df_links[['cx_id','pre_om','pre_type', 'post_om', 'post_type']]\n",
    "    df_c = pd.merge(df_new, df_cx_coords.reset_index(), left_on='cx_id',right_on='index').drop(['index'], axis=1)\n",
    "    df_comp = df_c[df_c.post_om != 'UNKNOWN'].drop_duplicates()\n",
    "    df_comp.to_csv(r'C:\\Documents\\Flatiron Internship\\Lamina Analysis\\export_df.csv')\n",
    "    return df_comp\n",
    "    \n",
    "df_comp = preprocessing()\n",
    "df_comp"
   ]
  },
  {
   "cell_type": "code",
   "execution_count": 55,
   "metadata": {},
   "outputs": [],
   "source": [
    "# Function to do PCA\n",
    "\n",
    "def do_PCA(coordinates):\n",
    "    pca = PCA(n_components=1)\n",
    "    pca.fit(coordinates)\n",
    "    pca.components_ *= -np.sign(pca.components_[0,0])\n",
    "    trans_all = pca.transform(coordinates)\n",
    "    return trans_all\n",
    "\n",
    "# Function to normalize om coords\n",
    "\n",
    "def normalize(trans):\n",
    "    normalized = (trans-np.min(trans))/(np.max(trans)-np.min(trans))\n",
    "    return normalized"
   ]
  },
  {
   "cell_type": "code",
   "execution_count": 51,
   "metadata": {
    "collapsed": true,
    "jupyter": {
     "outputs_hidden": true
    }
   },
   "outputs": [
    {
     "data": {
      "text/html": [
       "<div>\n",
       "<style scoped>\n",
       "    .dataframe tbody tr th:only-of-type {\n",
       "        vertical-align: middle;\n",
       "    }\n",
       "\n",
       "    .dataframe tbody tr th {\n",
       "        vertical-align: top;\n",
       "    }\n",
       "\n",
       "    .dataframe thead th {\n",
       "        text-align: right;\n",
       "    }\n",
       "</style>\n",
       "<table border=\"1\" class=\"dataframe\">\n",
       "  <thead>\n",
       "    <tr style=\"text-align: right;\">\n",
       "      <th></th>\n",
       "      <th>cx_id</th>\n",
       "      <th>pre_om</th>\n",
       "      <th>pre_type</th>\n",
       "      <th>post_om</th>\n",
       "      <th>post_type</th>\n",
       "      <th>x</th>\n",
       "      <th>y</th>\n",
       "      <th>z</th>\n",
       "      <th>transformed_coords</th>\n",
       "    </tr>\n",
       "  </thead>\n",
       "  <tbody>\n",
       "    <tr>\n",
       "      <th>0</th>\n",
       "      <td>276258</td>\n",
       "      <td>B6</td>\n",
       "      <td>LMC_N</td>\n",
       "      <td>B6</td>\n",
       "      <td>LMC_1</td>\n",
       "      <td>31888.0</td>\n",
       "      <td>71926.0</td>\n",
       "      <td>18790.0</td>\n",
       "      <td>0.549390</td>\n",
       "    </tr>\n",
       "    <tr>\n",
       "      <th>1</th>\n",
       "      <td>276258</td>\n",
       "      <td>B6</td>\n",
       "      <td>LMC_N</td>\n",
       "      <td>B6</td>\n",
       "      <td>LMC_2</td>\n",
       "      <td>31888.0</td>\n",
       "      <td>71926.0</td>\n",
       "      <td>18790.0</td>\n",
       "      <td>0.549390</td>\n",
       "    </tr>\n",
       "    <tr>\n",
       "      <th>3</th>\n",
       "      <td>276258</td>\n",
       "      <td>B6</td>\n",
       "      <td>LMC_N</td>\n",
       "      <td>B6</td>\n",
       "      <td>R3R6</td>\n",
       "      <td>31888.0</td>\n",
       "      <td>71926.0</td>\n",
       "      <td>18790.0</td>\n",
       "      <td>0.549390</td>\n",
       "    </tr>\n",
       "    <tr>\n",
       "      <th>5</th>\n",
       "      <td>277482</td>\n",
       "      <td>B6</td>\n",
       "      <td>LMC_N</td>\n",
       "      <td>B6</td>\n",
       "      <td>LMC_1</td>\n",
       "      <td>35203.0</td>\n",
       "      <td>69086.0</td>\n",
       "      <td>18153.0</td>\n",
       "      <td>0.000000</td>\n",
       "    </tr>\n",
       "    <tr>\n",
       "      <th>6</th>\n",
       "      <td>414327</td>\n",
       "      <td>E7</td>\n",
       "      <td>LMC_N</td>\n",
       "      <td>E7</td>\n",
       "      <td>LMC_1</td>\n",
       "      <td>35680.0</td>\n",
       "      <td>72202.4</td>\n",
       "      <td>25040.0</td>\n",
       "      <td>0.000000</td>\n",
       "    </tr>\n",
       "    <tr>\n",
       "      <th>...</th>\n",
       "      <td>...</td>\n",
       "      <td>...</td>\n",
       "      <td>...</td>\n",
       "      <td>...</td>\n",
       "      <td>...</td>\n",
       "      <td>...</td>\n",
       "      <td>...</td>\n",
       "      <td>...</td>\n",
       "      <td>...</td>\n",
       "    </tr>\n",
       "    <tr>\n",
       "      <th>20626</th>\n",
       "      <td>479967</td>\n",
       "      <td>C2</td>\n",
       "      <td>centri</td>\n",
       "      <td>C2</td>\n",
       "      <td>centri</td>\n",
       "      <td>29532.0</td>\n",
       "      <td>69569.7</td>\n",
       "      <td>34520.0</td>\n",
       "      <td>0.401034</td>\n",
       "    </tr>\n",
       "    <tr>\n",
       "      <th>20627</th>\n",
       "      <td>479967</td>\n",
       "      <td>C2</td>\n",
       "      <td>centri</td>\n",
       "      <td>C2</td>\n",
       "      <td>R1R4</td>\n",
       "      <td>29532.0</td>\n",
       "      <td>69569.7</td>\n",
       "      <td>34520.0</td>\n",
       "      <td>0.401034</td>\n",
       "    </tr>\n",
       "    <tr>\n",
       "      <th>20628</th>\n",
       "      <td>479967</td>\n",
       "      <td>C2</td>\n",
       "      <td>centri</td>\n",
       "      <td>C2</td>\n",
       "      <td>LMC_1</td>\n",
       "      <td>29532.0</td>\n",
       "      <td>69569.7</td>\n",
       "      <td>34520.0</td>\n",
       "      <td>0.401034</td>\n",
       "    </tr>\n",
       "    <tr>\n",
       "      <th>20629</th>\n",
       "      <td>479967</td>\n",
       "      <td>C2</td>\n",
       "      <td>centri</td>\n",
       "      <td>C2</td>\n",
       "      <td>R7p</td>\n",
       "      <td>29532.0</td>\n",
       "      <td>69569.7</td>\n",
       "      <td>34520.0</td>\n",
       "      <td>0.401034</td>\n",
       "    </tr>\n",
       "    <tr>\n",
       "      <th>20630</th>\n",
       "      <td>479967</td>\n",
       "      <td>C2</td>\n",
       "      <td>centri</td>\n",
       "      <td>C2</td>\n",
       "      <td>R2R5</td>\n",
       "      <td>29532.0</td>\n",
       "      <td>69569.7</td>\n",
       "      <td>34520.0</td>\n",
       "      <td>0.401034</td>\n",
       "    </tr>\n",
       "  </tbody>\n",
       "</table>\n",
       "<p>12720 rows × 9 columns</p>\n",
       "</div>"
      ],
      "text/plain": [
       "        cx_id pre_om pre_type post_om post_type        x        y        z  \\\n",
       "0      276258     B6    LMC_N      B6     LMC_1  31888.0  71926.0  18790.0   \n",
       "1      276258     B6    LMC_N      B6     LMC_2  31888.0  71926.0  18790.0   \n",
       "3      276258     B6    LMC_N      B6      R3R6  31888.0  71926.0  18790.0   \n",
       "5      277482     B6    LMC_N      B6     LMC_1  35203.0  69086.0  18153.0   \n",
       "6      414327     E7    LMC_N      E7     LMC_1  35680.0  72202.4  25040.0   \n",
       "...       ...    ...      ...     ...       ...      ...      ...      ...   \n",
       "20626  479967     C2   centri      C2    centri  29532.0  69569.7  34520.0   \n",
       "20627  479967     C2   centri      C2      R1R4  29532.0  69569.7  34520.0   \n",
       "20628  479967     C2   centri      C2     LMC_1  29532.0  69569.7  34520.0   \n",
       "20629  479967     C2   centri      C2       R7p  29532.0  69569.7  34520.0   \n",
       "20630  479967     C2   centri      C2      R2R5  29532.0  69569.7  34520.0   \n",
       "\n",
       "       transformed_coords  \n",
       "0                0.549390  \n",
       "1                0.549390  \n",
       "3                0.549390  \n",
       "5                0.000000  \n",
       "6                0.000000  \n",
       "...                   ...  \n",
       "20626            0.401034  \n",
       "20627            0.401034  \n",
       "20628            0.401034  \n",
       "20629            0.401034  \n",
       "20630            0.401034  \n",
       "\n",
       "[12720 rows x 9 columns]"
      ]
     },
     "metadata": {},
     "output_type": "display_data"
    }
   ],
   "source": [
    "# Makes df with transformed coords\n",
    "\n",
    "dfd = df_comp.copy()\n",
    "dfd[\"transformed_coords\"] = np.nan\n",
    "for om, rows in df_comp.groupby('pre_om'):\n",
    "    coords = rows.loc[:, ['x', 'y', 'z']]\n",
    "    trans_all = do_PCA(coords)\n",
    "    \n",
    "    # Normalizing from 0-1\n",
    "    \n",
    "    normalized = normalize(trans_all)\n",
    "    norm_list = [x[0] for x in normalized]\n",
    "    dfd.loc[dfd[\"pre_om\"]==om,\"transformed_coords\"] = norm_list\n",
    "display(dfd)"
   ]
  },
  {
   "cell_type": "code",
   "execution_count": 54,
   "metadata": {
    "collapsed": true,
    "jupyter": {
     "outputs_hidden": true
    }
   },
   "outputs": [
    {
     "name": "stdout",
     "output_type": "stream",
     "text": [
      "--------PRINTING DF WHERE TC IS MAX-----------\n",
      "             x  transformed_coords\n",
      "10231  28320.0                 1.0\n",
      "10232  28320.0                 1.0\n",
      "10233  28320.0                 1.0\n",
      "10234  28320.0                 1.0\n",
      "10236  28320.0                 1.0\n",
      "--------PRINTING DF WHERE X IS MAX-----------\n",
      "for pre_om B6 35203.0 is the max x value\n",
      "         x  transformed_coords\n",
      "5  35203.0                 0.0\n",
      "--------PRINTING DF WHERE TC IS MAX-----------\n",
      "             x  transformed_coords\n",
      "19459  29375.0                 1.0\n",
      "19460  29375.0                 1.0\n",
      "19461  29375.0                 1.0\n",
      "19462  29375.0                 1.0\n",
      "--------PRINTING DF WHERE X IS MAX-----------\n",
      "for pre_om E7 35680.0 is the max x value\n",
      "         x  transformed_coords\n",
      "6  35680.0                 0.0\n",
      "7  35680.0                 0.0\n",
      "--------PRINTING DF WHERE TC IS MAX-----------\n",
      "             x  transformed_coords\n",
      "17215  35023.0                 1.0\n",
      "17216  35023.0                 1.0\n",
      "17217  35023.0                 1.0\n",
      "--------PRINTING DF WHERE X IS MAX-----------\n",
      "for pre_om A3 35023.0 is the max x value\n",
      "             x  transformed_coords\n",
      "17215  35023.0                 1.0\n",
      "17216  35023.0                 1.0\n",
      "17217  35023.0                 1.0\n",
      "--------PRINTING DF WHERE TC IS MAX-----------\n",
      "           x  transformed_coords\n",
      "136  30746.0                 1.0\n",
      "137  30746.0                 1.0\n",
      "138  30746.0                 1.0\n",
      "--------PRINTING DF WHERE X IS MAX-----------\n",
      "for pre_om B3 34832.0 is the max x value\n",
      "            x  transformed_coords\n",
      "2642  34832.0            0.032451\n",
      "2643  34832.0            0.032451\n",
      "2644  34832.0            0.032451\n",
      "2645  34832.0            0.032451\n",
      "2646  34832.0            0.032451\n",
      "2647  34832.0            0.032451\n",
      "--------PRINTING DF WHERE TC IS MAX-----------\n",
      "            x  transformed_coords\n",
      "5199  32552.0                 1.0\n",
      "5200  32552.0                 1.0\n",
      "5201  32552.0                 1.0\n",
      "5206  32552.0                 1.0\n",
      "--------PRINTING DF WHERE X IS MAX-----------\n",
      "for pre_om B2 32552.0 is the max x value\n",
      "            x  transformed_coords\n",
      "5199  32552.0                 1.0\n",
      "5200  32552.0                 1.0\n",
      "5201  32552.0                 1.0\n",
      "5206  32552.0                 1.0\n",
      "--------PRINTING DF WHERE TC IS MAX-----------\n",
      "            x  transformed_coords\n",
      "7277  30411.0                 1.0\n",
      "7278  30411.0                 1.0\n",
      "7279  30411.0                 1.0\n",
      "7281  30411.0                 1.0\n",
      "7282  30411.0                 1.0\n",
      "--------PRINTING DF WHERE X IS MAX-----------\n",
      "for pre_om D5 37552.0 is the max x value\n",
      "            x  transformed_coords\n",
      "7327  37552.0            0.080874\n",
      "7328  37552.0            0.080874\n",
      "7329  37552.0            0.080874\n",
      "--------PRINTING DF WHERE TC IS MAX-----------\n",
      "            x  transformed_coords\n",
      "4020  29517.5                 1.0\n",
      "4021  29517.5                 1.0\n",
      "4022  29517.5                 1.0\n",
      "--------PRINTING DF WHERE X IS MAX-----------\n",
      "for pre_om C4 36776.0 is the max x value\n",
      "            x  transformed_coords\n",
      "1316  36776.0            0.022044\n",
      "1317  36776.0            0.022044\n",
      "1318  36776.0            0.022044\n",
      "1320  36776.0            0.022044\n",
      "--------PRINTING DF WHERE TC IS MAX-----------\n",
      "            x  transformed_coords\n",
      "9285  28528.0                 1.0\n",
      "9286  28528.0                 1.0\n",
      "--------PRINTING DF WHERE X IS MAX-----------\n",
      "for pre_om B5 37104.0 is the max x value\n",
      "             x  transformed_coords\n",
      "16709  37104.0                 0.0\n",
      "16710  37104.0                 0.0\n",
      "16711  37104.0                 0.0\n",
      "--------PRINTING DF WHERE TC IS MAX-----------\n",
      "            x  transformed_coords\n",
      "2124  30216.0                 1.0\n",
      "2125  30216.0                 1.0\n",
      "2126  30216.0                 1.0\n",
      "2127  30216.0                 1.0\n",
      "2128  30216.0                 1.0\n",
      "2129  30216.0                 1.0\n",
      "--------PRINTING DF WHERE X IS MAX-----------\n",
      "for pre_om C6 36537.2 is the max x value\n",
      "            x  transformed_coords\n",
      "2345  36537.2                 0.0\n",
      "2346  36537.2                 0.0\n",
      "2347  36537.2                 0.0\n",
      "--------PRINTING DF WHERE TC IS MAX-----------\n",
      "            x  transformed_coords\n",
      "3995  29241.0                 1.0\n",
      "3996  29241.0                 1.0\n",
      "--------PRINTING DF WHERE X IS MAX-----------\n",
      "for pre_om A2 32100.0 is the max x value\n",
      "            x  transformed_coords\n",
      "2915  32100.0             0.20512\n",
      "2917  32100.0             0.20512\n",
      "--------PRINTING DF WHERE TC IS MAX-----------\n",
      "            x  transformed_coords\n",
      "3132  29544.0                 1.0\n",
      "3133  29544.0                 1.0\n",
      "3134  29544.0                 1.0\n",
      "--------PRINTING DF WHERE X IS MAX-----------\n",
      "for pre_om C3 33628.0 is the max x value\n",
      "            x  transformed_coords\n",
      "3863  33628.0            0.068536\n",
      "3864  33628.0            0.068536\n",
      "3867  33628.0            0.068536\n",
      "3868  33628.0            0.068536\n",
      "3870  33628.0            0.068536\n",
      "--------PRINTING DF WHERE TC IS MAX-----------\n",
      "            x  transformed_coords\n",
      "5877  29888.0                 1.0\n",
      "5880  29888.0                 1.0\n",
      "5881  29888.0                 1.0\n",
      "--------PRINTING DF WHERE X IS MAX-----------\n",
      "for pre_om D4 35840.0 is the max x value\n",
      "            x  transformed_coords\n",
      "4816  35840.0            0.063578\n",
      "4817  35840.0            0.063578\n",
      "--------PRINTING DF WHERE TC IS MAX-----------\n",
      "            x  transformed_coords\n",
      "6330  36294.0                 1.0\n",
      "6332  36294.0                 1.0\n",
      "--------PRINTING DF WHERE X IS MAX-----------\n",
      "for pre_om B4 36716.0 is the max x value\n",
      "            x  transformed_coords\n",
      "5384  36716.0            0.894812\n",
      "5385  36716.0            0.894812\n",
      "5387  36716.0            0.894812\n",
      "5388  36716.0            0.894812\n",
      "--------PRINTING DF WHERE TC IS MAX-----------\n",
      "            x  transformed_coords\n",
      "4882  29825.0                 1.0\n",
      "4883  29825.0                 1.0\n",
      "--------PRINTING DF WHERE X IS MAX-----------\n",
      "for pre_om E5 36195.0 is the max x value\n",
      "            x  transformed_coords\n",
      "4891  36195.0            0.040292\n",
      "--------PRINTING DF WHERE TC IS MAX-----------\n",
      "            x  transformed_coords\n",
      "7585  31416.0                 1.0\n",
      "7586  31416.0                 1.0\n",
      "7587  31416.0                 1.0\n",
      "7588  31416.0                 1.0\n",
      "7589  31416.0                 1.0\n",
      "--------PRINTING DF WHERE X IS MAX-----------\n",
      "for pre_om D3 31653.8 is the max x value\n",
      "            x  transformed_coords\n",
      "7438  31653.8            0.849032\n",
      "7439  31653.8            0.849032\n",
      "7440  31653.8            0.849032\n",
      "7443  31653.8            0.849032\n",
      "--------PRINTING DF WHERE TC IS MAX-----------\n",
      "            x  transformed_coords\n",
      "8305  29840.0                 1.0\n",
      "8306  29840.0                 1.0\n",
      "--------PRINTING DF WHERE X IS MAX-----------\n",
      "for pre_om D6 37504.0 is the max x value\n",
      "            x  transformed_coords\n",
      "8243  37504.0                 0.0\n",
      "8245  37504.0                 0.0\n",
      "8246  37504.0                 0.0\n",
      "8247  37504.0                 0.0\n",
      "8248  37504.0                 0.0\n",
      "--------PRINTING DF WHERE TC IS MAX-----------\n",
      "            x  transformed_coords\n",
      "8962  31416.0                 1.0\n",
      "--------PRINTING DF WHERE X IS MAX-----------\n",
      "for pre_om E4 31590.0 is the max x value\n",
      "            x  transformed_coords\n",
      "8470  31590.0            0.868176\n",
      "8471  31590.0            0.868176\n",
      "8472  31590.0            0.868176\n",
      "8473  31590.0            0.868176\n",
      "8474  31590.0            0.868176\n",
      "8475  31590.0            0.868176\n",
      "--------PRINTING DF WHERE TC IS MAX-----------\n",
      "             x  transformed_coords\n",
      "11650  31016.0                 1.0\n",
      "11651  31016.0                 1.0\n",
      "11652  31016.0                 1.0\n",
      "--------PRINTING DF WHERE X IS MAX-----------\n",
      "for pre_om C5 39065.0 is the max x value\n",
      "            x  transformed_coords\n",
      "9855  39065.0                 0.0\n",
      "9856  39065.0                 0.0\n",
      "--------PRINTING DF WHERE TC IS MAX-----------\n",
      "             x  transformed_coords\n",
      "19733  25501.0                 1.0\n",
      "19735  25501.0                 1.0\n",
      "--------PRINTING DF WHERE X IS MAX-----------\n",
      "for pre_om A0 28688.0 is the max x value\n",
      "             x  transformed_coords\n",
      "10067  28688.0            0.101234\n",
      "10068  28688.0            0.101234\n",
      "--------PRINTING DF WHERE TC IS MAX-----------\n",
      "             x  transformed_coords\n",
      "10557  34584.0                 1.0\n",
      "10558  34584.0                 1.0\n",
      "10559  34584.0                 1.0\n",
      "10562  34584.0                 1.0\n",
      "10564  34584.0                 1.0\n",
      "10565  34584.0                 1.0\n",
      "--------PRINTING DF WHERE X IS MAX-----------\n",
      "for pre_om A5 34600.0 is the max x value\n",
      "             x  transformed_coords\n",
      "11761  34600.0            0.966187\n",
      "11763  34600.0            0.966187\n",
      "11764  34600.0            0.966187\n",
      "--------PRINTING DF WHERE TC IS MAX-----------\n",
      "             x  transformed_coords\n",
      "11766  26372.0                 1.0\n",
      "11767  26372.0                 1.0\n",
      "--------PRINTING DF WHERE X IS MAX-----------\n",
      "for pre_om D2 29060.0 is the max x value\n",
      "             x  transformed_coords\n",
      "14521  29060.0            0.052987\n",
      "14522  29060.0            0.052987\n",
      "14523  29060.0            0.052987\n",
      "14528  29060.0            0.052987\n",
      "--------PRINTING DF WHERE TC IS MAX-----------\n",
      "             x  transformed_coords\n",
      "11829  30790.0                 1.0\n",
      "11830  30790.0                 1.0\n",
      "11833  30790.0                 1.0\n",
      "--------PRINTING DF WHERE X IS MAX-----------\n",
      "for pre_om A1 30790.0 is the max x value\n",
      "             x  transformed_coords\n",
      "11829  30790.0                 1.0\n",
      "11830  30790.0                 1.0\n",
      "11833  30790.0                 1.0\n",
      "--------PRINTING DF WHERE TC IS MAX-----------\n",
      "             x  transformed_coords\n",
      "13318  24676.0                 1.0\n",
      "13320  24676.0                 1.0\n",
      "13323  24676.0                 1.0\n",
      "--------PRINTING DF WHERE X IS MAX-----------\n",
      "for pre_om B0 27030.0 is the max x value\n",
      "             x  transformed_coords\n",
      "13022  27030.0                 0.0\n",
      "13023  27030.0                 0.0\n",
      "13024  27030.0                 0.0\n",
      "13025  27030.0                 0.0\n",
      "--------PRINTING DF WHERE TC IS MAX-----------\n",
      "             x  transformed_coords\n",
      "13683  30859.0                 1.0\n",
      "13684  30859.0                 1.0\n",
      "13686  30859.0                 1.0\n",
      "--------PRINTING DF WHERE X IS MAX-----------\n",
      "for pre_om E6 36880.0 is the max x value\n",
      "             x  transformed_coords\n",
      "13678  36880.0                 0.0\n",
      "13679  36880.0                 0.0\n",
      "13680  36880.0                 0.0\n",
      "13682  36880.0                 0.0\n",
      "--------PRINTING DF WHERE TC IS MAX-----------\n",
      "             x  transformed_coords\n",
      "15396  30076.0                 1.0\n",
      "15397  30076.0                 1.0\n",
      "15398  30076.0                 1.0\n",
      "--------PRINTING DF WHERE X IS MAX-----------\n",
      "for pre_om A4 35825.0 is the max x value\n",
      "             x  transformed_coords\n",
      "14712  35825.0            0.084126\n",
      "14713  35825.0            0.084126\n",
      "14715  35825.0            0.084126\n",
      "14716  35825.0            0.084126\n",
      "--------PRINTING DF WHERE TC IS MAX-----------\n",
      "             x  transformed_coords\n",
      "19511  26289.3                 1.0\n",
      "--------PRINTING DF WHERE X IS MAX-----------\n",
      "for pre_om B1 30490.0 is the max x value\n",
      "             x  transformed_coords\n",
      "18978  30490.0                 0.0\n",
      "18979  30490.0                 0.0\n",
      "18981  30490.0                 0.0\n",
      "--------PRINTING DF WHERE TC IS MAX-----------\n",
      "             x  transformed_coords\n",
      "17356  24784.0                 1.0\n",
      "17357  24784.0                 1.0\n",
      "17358  24784.0                 1.0\n",
      "--------PRINTING DF WHERE X IS MAX-----------\n",
      "for pre_om C1 29160.0 is the max x value\n",
      "             x  transformed_coords\n",
      "17373  29160.0                 0.0\n",
      "17374  29160.0                 0.0\n",
      "17375  29160.0                 0.0\n",
      "--------PRINTING DF WHERE TC IS MAX-----------\n",
      "             x  transformed_coords\n",
      "17995  28984.0                 1.0\n",
      "--------PRINTING DF WHERE X IS MAX-----------\n",
      "for pre_om D7 35392.0 is the max x value\n",
      "             x  transformed_coords\n",
      "17218  35392.0                 0.0\n",
      "17219  35392.0                 0.0\n",
      "17220  35392.0                 0.0\n",
      "17221  35392.0                 0.0\n",
      "17222  35392.0                 0.0\n",
      "--------PRINTING DF WHERE TC IS MAX-----------\n",
      "             x  transformed_coords\n",
      "20397  26872.0                 1.0\n",
      "20399  26872.0                 1.0\n",
      "--------PRINTING DF WHERE X IS MAX-----------\n",
      "for pre_om C2 31840.0 is the max x value\n",
      "             x  transformed_coords\n",
      "20470  31840.0                 0.0\n",
      "20471  31840.0                 0.0\n",
      "20472  31840.0                 0.0\n",
      "20473  31840.0                 0.0\n",
      "20475  31840.0                 0.0\n"
     ]
    }
   ],
   "source": [
    "# Comparing untransformed/transformed coordinates\n",
    "\n",
    "# df = dfd.loc[dfd['pre_type'] == 'LMC_2']\n",
    "df = dfd\n",
    "\n",
    "pre_oms = dfd['pre_om'].unique()\n",
    "\n",
    "for o in pre_oms:\n",
    "    dfo = df.loc[df['pre_om'] == o]\n",
    "    mt = max(dfo['transformed_coords'])\n",
    "    dft = dfo.loc[dfo['transformed_coords'] == mt]\n",
    "    dft = dft[['x','transformed_coords']]\n",
    "    print(\"--------PRINTING DF WHERE TC IS MAX-----------\")\n",
    "    print(dft)\n",
    "    print(\"--------PRINTING DF WHERE X IS MAX-----------\")\n",
    "    m = max(dfo['x'])\n",
    "    print(\"for pre_om\", o, m, \"is the max x value\")\n",
    "    dfm = dfo.loc[dfo['x'] == m]\n",
    "    dfm = dfm[['x','transformed_coords']]\n",
    "    print(dfm)"
   ]
  },
  {
   "cell_type": "code",
   "execution_count": 22,
   "metadata": {
    "collapsed": true,
    "jupyter": {
     "outputs_hidden": true
    }
   },
   "outputs": [
    {
     "data": {
      "image/png": "[encoded data removed]",
      "text/plain": [
       "<Figure size 432x288 with 1 Axes>"
      ]
     },
     "metadata": {
      "needs_background": "light"
     },
     "output_type": "display_data"
    },
    {
     "data": {
      "image/png": "[encoded data removed]",
      "text/plain": [
       "<Figure size 432x288 with 1 Axes>"
      ]
     },
     "metadata": {
      "needs_background": "light"
     },
     "output_type": "display_data"
    },
    {
     "data": {
      "image/png": "[encoded data removed]",
      "text/plain": [
       "<Figure size 432x288 with 1 Axes>"
      ]
     },
     "metadata": {
      "needs_background": "light"
     },
     "output_type": "display_data"
    },
    {
     "data": {
      "image/png": "[encoded data removed]",
      "text/plain": [
       "<Figure size 432x288 with 1 Axes>"
      ]
     },
     "metadata": {
      "needs_background": "light"
     },
     "output_type": "display_data"
    },
    {
     "data": {
      "image/png": "[encoded data removed]",
      "text/plain": [
       "<Figure size 432x288 with 1 Axes>"
      ]
     },
     "metadata": {
      "needs_background": "light"
     },
     "output_type": "display_data"
    },
    {
     "data": {
      "image/png": "[encoded data removed]",
      "text/plain": [
       "<Figure size 432x288 with 1 Axes>"
      ]
     },
     "metadata": {
      "needs_background": "light"
     },
     "output_type": "display_data"
    },
    {
     "data": {
      "image/png": "[encoded data removed]",
      "text/plain": [
       "<Figure size 432x288 with 1 Axes>"
      ]
     },
     "metadata": {
      "needs_background": "light"
     },
     "output_type": "display_data"
    },
    {
     "data": {
      "image/png": "[encoded data removed]",
      "text/plain": [
       "<Figure size 432x288 with 1 Axes>"
      ]
     },
     "metadata": {
      "needs_background": "light"
     },
     "output_type": "display_data"
    },
    {
     "data": {
      "image/png": "[encoded data removed]",
      "text/plain": [
       "<Figure size 432x288 with 1 Axes>"
      ]
     },
     "metadata": {
      "needs_background": "light"
     },
     "output_type": "display_data"
    }
   ],
   "source": [
    "# Histograms - L2 pre\n",
    "colors = {'LMC_N': 'tomato', 'centri': 'deepskyblue', 'R2R5': 'lawngreen', 'R3R6': 'gold', 'R1R4': 'orange', 'LMC_1': 'slategrey', 'LMC_3': 'crimson', 'LMC_2': 'hotpink', 'R7p': 'cyan', 'R8': 'mediumorchid', 'LMC_4': 'royalblue', 'R7': 'peru'}\n",
    "\n",
    "df = dfd.loc[dfd['pre_type'] == 'LMC_2']\n",
    "di = {}\n",
    "for index, row in df.iterrows():\n",
    "    if row['post_type'] not in ['LMC_N', 'R1R4', 'R3R6']:\n",
    "        if row['post_type'] not in di:\n",
    "            di[row['post_type']] = [row['transformed_coords']]\n",
    "        else:\n",
    "            di[row['post_type']].append(row['transformed_coords'])\n",
    "    \n",
    "for key,value in di.items():\n",
    "    sns.distplot(value, bins=30, color=colors[key], kde=False)\n",
    "    plt.xlabel(str(key))\n",
    "    plt.xlim(0, 1)\n",
    "#     plt.ylim(0, 40)\n",
    "    plt.show()"
   ]
  },
  {
   "cell_type": "code",
   "execution_count": 31,
   "metadata": {},
   "outputs": [
    {
     "data": {
      "text/html": [
       "<div>\n",
       "<style scoped>\n",
       "    .dataframe tbody tr th:only-of-type {\n",
       "        vertical-align: middle;\n",
       "    }\n",
       "\n",
       "    .dataframe tbody tr th {\n",
       "        vertical-align: top;\n",
       "    }\n",
       "\n",
       "    .dataframe thead th {\n",
       "        text-align: right;\n",
       "    }\n",
       "</style>\n",
       "<table border=\"1\" class=\"dataframe\">\n",
       "  <thead>\n",
       "    <tr style=\"text-align: right;\">\n",
       "      <th></th>\n",
       "      <th>type</th>\n",
       "      <th>skew</th>\n",
       "    </tr>\n",
       "  </thead>\n",
       "  <tbody>\n",
       "    <tr>\n",
       "      <th>0</th>\n",
       "      <td>R7p</td>\n",
       "      <td>-0.477484</td>\n",
       "    </tr>\n",
       "    <tr>\n",
       "      <th>1</th>\n",
       "      <td>LMC_3</td>\n",
       "      <td>-0.200399</td>\n",
       "    </tr>\n",
       "    <tr>\n",
       "      <th>2</th>\n",
       "      <td>LMC_1</td>\n",
       "      <td>-0.211330</td>\n",
       "    </tr>\n",
       "    <tr>\n",
       "      <th>3</th>\n",
       "      <td>centri</td>\n",
       "      <td>0.256156</td>\n",
       "    </tr>\n",
       "    <tr>\n",
       "      <th>4</th>\n",
       "      <td>LMC_4</td>\n",
       "      <td>-0.066052</td>\n",
       "    </tr>\n",
       "    <tr>\n",
       "      <th>5</th>\n",
       "      <td>LMC_2</td>\n",
       "      <td>-0.298686</td>\n",
       "    </tr>\n",
       "    <tr>\n",
       "      <th>6</th>\n",
       "      <td>R8</td>\n",
       "      <td>-0.460819</td>\n",
       "    </tr>\n",
       "    <tr>\n",
       "      <th>7</th>\n",
       "      <td>R7</td>\n",
       "      <td>-0.134936</td>\n",
       "    </tr>\n",
       "    <tr>\n",
       "      <th>8</th>\n",
       "      <td>R2R5</td>\n",
       "      <td>0.049865</td>\n",
       "    </tr>\n",
       "  </tbody>\n",
       "</table>\n",
       "</div>"
      ],
      "text/plain": [
       "     type      skew\n",
       "0     R7p -0.477484\n",
       "1   LMC_3 -0.200399\n",
       "2   LMC_1 -0.211330\n",
       "3  centri  0.256156\n",
       "4   LMC_4 -0.066052\n",
       "5   LMC_2 -0.298686\n",
       "6      R8 -0.460819\n",
       "7      R7 -0.134936\n",
       "8    R2R5  0.049865"
      ]
     },
     "metadata": {},
     "output_type": "display_data"
    }
   ],
   "source": [
    "sdf = pd.DataFrame()\n",
    "sdf['type'] = di.keys()\n",
    "\n",
    "s_li = []\n",
    "\n",
    "for key,value in di.items():\n",
    "    s = scipy.stats.skew(value)\n",
    "    s_li.append(s)\n",
    "    \n",
    "sdf['skew'] = s_li\n",
    "    \n",
    "display(sdf)\n",
    "    "
   ]
  },
  {
   "cell_type": "code",
   "execution_count": 34,
   "metadata": {
    "collapsed": true,
    "jupyter": {
     "outputs_hidden": true
    }
   },
   "outputs": [
    {
     "data": {
      "image/png": "[encoded data removed]",
      "text/plain": [
       "<Figure size 432x288 with 1 Axes>"
      ]
     },
     "metadata": {
      "needs_background": "light"
     },
     "output_type": "display_data"
    },
    {
     "data": {
      "image/png": "[encoded data removed]",
      "text/plain": [
       "<Figure size 432x288 with 1 Axes>"
      ]
     },
     "metadata": {
      "needs_background": "light"
     },
     "output_type": "display_data"
    },
    {
     "data": {
      "image/png": "[encoded data removed]",
      "text/plain": [
       "<Figure size 432x288 with 1 Axes>"
      ]
     },
     "metadata": {
      "needs_background": "light"
     },
     "output_type": "display_data"
    },
    {
     "data": {
      "image/png": "[encoded data removed]",
      "text/plain": [
       "<Figure size 432x288 with 1 Axes>"
      ]
     },
     "metadata": {
      "needs_background": "light"
     },
     "output_type": "display_data"
    },
    {
     "data": {
      "image/png": "[encoded data removed]",
      "text/plain": [
       "<Figure size 432x288 with 1 Axes>"
      ]
     },
     "metadata": {
      "needs_background": "light"
     },
     "output_type": "display_data"
    },
    {
     "data": {
      "image/png": "[encoded data removed]",
      "text/plain": [
       "<Figure size 432x288 with 1 Axes>"
      ]
     },
     "metadata": {
      "needs_background": "light"
     },
     "output_type": "display_data"
    },
    {
     "data": {
      "image/png": "[encoded data removed]",
      "text/plain": [
       "<Figure size 432x288 with 1 Axes>"
      ]
     },
     "metadata": {
      "needs_background": "light"
     },
     "output_type": "display_data"
    },
    {
     "data": {
      "image/png": "[encoded data removed]",
      "text/plain": [
       "<Figure size 432x288 with 1 Axes>"
      ]
     },
     "metadata": {
      "needs_background": "light"
     },
     "output_type": "display_data"
    },
    {
     "data": {
      "image/png": "[encoded data removed]",
      "text/plain": [
       "<Figure size 432x288 with 1 Axes>"
      ]
     },
     "metadata": {
      "needs_background": "light"
     },
     "output_type": "display_data"
    },
    {
     "data": {
      "image/png": "[encoded data removed]",
      "text/plain": [
       "<Figure size 432x288 with 1 Axes>"
      ]
     },
     "metadata": {
      "needs_background": "light"
     },
     "output_type": "display_data"
    },
    {
     "data": {
      "image/png": "[encoded data removed]",
      "text/plain": [
       "<Figure size 432x288 with 1 Axes>"
      ]
     },
     "metadata": {
      "needs_background": "light"
     },
     "output_type": "display_data"
    },
    {
     "data": {
      "image/png": "[encoded data removed]",
      "text/plain": [
       "<Figure size 432x288 with 1 Axes>"
      ]
     },
     "metadata": {
      "needs_background": "light"
     },
     "output_type": "display_data"
    },
    {
     "data": {
      "image/png": "[encoded data removed]",
      "text/plain": [
       "<Figure size 432x288 with 1 Axes>"
      ]
     },
     "metadata": {
      "needs_background": "light"
     },
     "output_type": "display_data"
    },
    {
     "data": {
      "image/png": "[encoded data removed]",
      "text/plain": [
       "<Figure size 432x288 with 1 Axes>"
      ]
     },
     "metadata": {
      "needs_background": "light"
     },
     "output_type": "display_data"
    },
    {
     "data": {
      "image/png": "[encoded data removed]",
      "text/plain": [
       "<Figure size 432x288 with 1 Axes>"
      ]
     },
     "metadata": {
      "needs_background": "light"
     },
     "output_type": "display_data"
    },
    {
     "data": {
      "image/png": "[encoded data removed]",
      "text/plain": [
       "<Figure size 432x288 with 1 Axes>"
      ]
     },
     "metadata": {
      "needs_background": "light"
     },
     "output_type": "display_data"
    },
    {
     "data": {
      "image/png": "[encoded data removed]",
      "text/plain": [
       "<Figure size 432x288 with 1 Axes>"
      ]
     },
     "metadata": {
      "needs_background": "light"
     },
     "output_type": "display_data"
    },
    {
     "data": {
      "image/png": "[encoded data removed]",
      "text/plain": [
       "<Figure size 432x288 with 1 Axes>"
      ]
     },
     "metadata": {
      "needs_background": "light"
     },
     "output_type": "display_data"
    },
    {
     "data": {
      "image/png": "[encoded data removed]",
      "text/plain": [
       "<Figure size 432x288 with 1 Axes>"
      ]
     },
     "metadata": {
      "needs_background": "light"
     },
     "output_type": "display_data"
    },
    {
     "data": {
      "image/png": "[encoded data removed]",
      "text/plain": [
       "<Figure size 432x288 with 1 Axes>"
      ]
     },
     "metadata": {
      "needs_background": "light"
     },
     "output_type": "display_data"
    },
    {
     "data": {
      "image/png": "[encoded data removed]",
      "text/plain": [
       "<Figure size 432x288 with 1 Axes>"
      ]
     },
     "metadata": {
      "needs_background": "light"
     },
     "output_type": "display_data"
    },
    {
     "data": {
      "image/png": "[encoded data removed]",
      "text/plain": [
       "<Figure size 432x288 with 1 Axes>"
      ]
     },
     "metadata": {
      "needs_background": "light"
     },
     "output_type": "display_data"
    },
    {
     "data": {
      "image/png": "[encoded data removed]",
      "text/plain": [
       "<Figure size 432x288 with 1 Axes>"
      ]
     },
     "metadata": {
      "needs_background": "light"
     },
     "output_type": "display_data"
    },
    {
     "data": {
      "image/png": "[encoded data removed]",
      "text/plain": [
       "<Figure size 432x288 with 1 Axes>"
      ]
     },
     "metadata": {
      "needs_background": "light"
     },
     "output_type": "display_data"
    },
    {
     "data": {
      "image/png": "[encoded data removed]",
      "text/plain": [
       "<Figure size 432x288 with 1 Axes>"
      ]
     },
     "metadata": {
      "needs_background": "light"
     },
     "output_type": "display_data"
    },
    {
     "data": {
      "image/png": "[encoded data removed]",
      "text/plain": [
       "<Figure size 432x288 with 1 Axes>"
      ]
     },
     "metadata": {
      "needs_background": "light"
     },
     "output_type": "display_data"
    },
    {
     "data": {
      "image/png": "[encoded data removed]",
      "text/plain": [
       "<Figure size 432x288 with 1 Axes>"
      ]
     },
     "metadata": {
      "needs_background": "light"
     },
     "output_type": "display_data"
    },
    {
     "data": {
      "image/png": "[encoded data removed]",
      "text/plain": [
       "<Figure size 432x288 with 1 Axes>"
      ]
     },
     "metadata": {
      "needs_background": "light"
     },
     "output_type": "display_data"
    },
    {
     "data": {
      "image/png": "[encoded data removed]",
      "text/plain": [
       "<Figure size 432x288 with 1 Axes>"
      ]
     },
     "metadata": {
      "needs_background": "light"
     },
     "output_type": "display_data"
    }
   ],
   "source": [
    "# Histograms - L2 pre\n",
    "# colors = {'LMC_N': 'tomato', 'centri': 'deepskyblue', 'R2R5': 'lawngreen', 'R3R6': 'gold', 'R1R4': 'orange', 'LMC_1': 'slategrey', 'LMC_3': 'crimson', 'LMC_2': 'hotpink', 'R7p': 'cyan', 'R8': 'mediumorchid', 'LMC_4': 'royalblue', 'R7': 'peru'}\n",
    "\n",
    "df = dfd.loc[dfd['pre_type'] == 'LMC_2']\n",
    "di = {}\n",
    "for index, row in df.iterrows():\n",
    "    if row['pre_om'] not in di:\n",
    "        di[row['pre_om']] = [row['transformed_coords']]\n",
    "    else:\n",
    "        di[row['pre_om']].append(row['transformed_coords'])\n",
    "    \n",
    "for key,value in di.items():\n",
    "    \n",
    "    sns.distplot(value, bins=10, kde=False)\n",
    "    plt.xlabel(str(key))\n",
    "    plt.xlim(0, 1)\n",
    "#     plt.ylim(0, 40)\n",
    "    plt.show()"
   ]
  },
  {
   "cell_type": "code",
   "execution_count": 33,
   "metadata": {
    "collapsed": true,
    "jupyter": {
     "outputs_hidden": true
    }
   },
   "outputs": [
    {
     "data": {
      "text/html": [
       "<div>\n",
       "<style scoped>\n",
       "    .dataframe tbody tr th:only-of-type {\n",
       "        vertical-align: middle;\n",
       "    }\n",
       "\n",
       "    .dataframe tbody tr th {\n",
       "        vertical-align: top;\n",
       "    }\n",
       "\n",
       "    .dataframe thead th {\n",
       "        text-align: right;\n",
       "    }\n",
       "</style>\n",
       "<table border=\"1\" class=\"dataframe\">\n",
       "  <thead>\n",
       "    <tr style=\"text-align: right;\">\n",
       "      <th></th>\n",
       "      <th>om</th>\n",
       "      <th>skew</th>\n",
       "    </tr>\n",
       "  </thead>\n",
       "  <tbody>\n",
       "    <tr>\n",
       "      <th>0</th>\n",
       "      <td>A3</td>\n",
       "      <td>0.198386</td>\n",
       "    </tr>\n",
       "    <tr>\n",
       "      <th>1</th>\n",
       "      <td>C4</td>\n",
       "      <td>-0.084203</td>\n",
       "    </tr>\n",
       "    <tr>\n",
       "      <th>2</th>\n",
       "      <td>B6</td>\n",
       "      <td>0.291444</td>\n",
       "    </tr>\n",
       "    <tr>\n",
       "      <th>3</th>\n",
       "      <td>C6</td>\n",
       "      <td>0.461559</td>\n",
       "    </tr>\n",
       "    <tr>\n",
       "      <th>4</th>\n",
       "      <td>B3</td>\n",
       "      <td>-1.202078</td>\n",
       "    </tr>\n",
       "    <tr>\n",
       "      <th>5</th>\n",
       "      <td>C3</td>\n",
       "      <td>-0.564857</td>\n",
       "    </tr>\n",
       "    <tr>\n",
       "      <th>6</th>\n",
       "      <td>A2</td>\n",
       "      <td>-0.138427</td>\n",
       "    </tr>\n",
       "    <tr>\n",
       "      <th>7</th>\n",
       "      <td>B2</td>\n",
       "      <td>-0.268720</td>\n",
       "    </tr>\n",
       "    <tr>\n",
       "      <th>8</th>\n",
       "      <td>D4</td>\n",
       "      <td>-0.220410</td>\n",
       "    </tr>\n",
       "    <tr>\n",
       "      <th>9</th>\n",
       "      <td>B4</td>\n",
       "      <td>0.031665</td>\n",
       "    </tr>\n",
       "    <tr>\n",
       "      <th>10</th>\n",
       "      <td>D5</td>\n",
       "      <td>0.380122</td>\n",
       "    </tr>\n",
       "    <tr>\n",
       "      <th>11</th>\n",
       "      <td>D3</td>\n",
       "      <td>-0.574206</td>\n",
       "    </tr>\n",
       "    <tr>\n",
       "      <th>12</th>\n",
       "      <td>D6</td>\n",
       "      <td>0.049389</td>\n",
       "    </tr>\n",
       "    <tr>\n",
       "      <th>13</th>\n",
       "      <td>E5</td>\n",
       "      <td>0.226176</td>\n",
       "    </tr>\n",
       "    <tr>\n",
       "      <th>14</th>\n",
       "      <td>E4</td>\n",
       "      <td>0.595670</td>\n",
       "    </tr>\n",
       "    <tr>\n",
       "      <th>15</th>\n",
       "      <td>C5</td>\n",
       "      <td>-0.210481</td>\n",
       "    </tr>\n",
       "    <tr>\n",
       "      <th>16</th>\n",
       "      <td>A5</td>\n",
       "      <td>-0.267138</td>\n",
       "    </tr>\n",
       "    <tr>\n",
       "      <th>17</th>\n",
       "      <td>B0</td>\n",
       "      <td>-0.142537</td>\n",
       "    </tr>\n",
       "    <tr>\n",
       "      <th>18</th>\n",
       "      <td>E6</td>\n",
       "      <td>-0.184621</td>\n",
       "    </tr>\n",
       "    <tr>\n",
       "      <th>19</th>\n",
       "      <td>A1</td>\n",
       "      <td>-0.490936</td>\n",
       "    </tr>\n",
       "    <tr>\n",
       "      <th>20</th>\n",
       "      <td>A4</td>\n",
       "      <td>-0.026897</td>\n",
       "    </tr>\n",
       "    <tr>\n",
       "      <th>21</th>\n",
       "      <td>D2</td>\n",
       "      <td>0.641706</td>\n",
       "    </tr>\n",
       "    <tr>\n",
       "      <th>22</th>\n",
       "      <td>C1</td>\n",
       "      <td>-0.358675</td>\n",
       "    </tr>\n",
       "    <tr>\n",
       "      <th>23</th>\n",
       "      <td>B5</td>\n",
       "      <td>-0.206225</td>\n",
       "    </tr>\n",
       "    <tr>\n",
       "      <th>24</th>\n",
       "      <td>D7</td>\n",
       "      <td>-0.103582</td>\n",
       "    </tr>\n",
       "    <tr>\n",
       "      <th>25</th>\n",
       "      <td>A0</td>\n",
       "      <td>-0.017543</td>\n",
       "    </tr>\n",
       "    <tr>\n",
       "      <th>26</th>\n",
       "      <td>E7</td>\n",
       "      <td>1.153008</td>\n",
       "    </tr>\n",
       "    <tr>\n",
       "      <th>27</th>\n",
       "      <td>B1</td>\n",
       "      <td>0.186993</td>\n",
       "    </tr>\n",
       "    <tr>\n",
       "      <th>28</th>\n",
       "      <td>C2</td>\n",
       "      <td>0.201370</td>\n",
       "    </tr>\n",
       "  </tbody>\n",
       "</table>\n",
       "</div>"
      ],
      "text/plain": [
       "    om      skew\n",
       "0   A3  0.198386\n",
       "1   C4 -0.084203\n",
       "2   B6  0.291444\n",
       "3   C6  0.461559\n",
       "4   B3 -1.202078\n",
       "5   C3 -0.564857\n",
       "6   A2 -0.138427\n",
       "7   B2 -0.268720\n",
       "8   D4 -0.220410\n",
       "9   B4  0.031665\n",
       "10  D5  0.380122\n",
       "11  D3 -0.574206\n",
       "12  D6  0.049389\n",
       "13  E5  0.226176\n",
       "14  E4  0.595670\n",
       "15  C5 -0.210481\n",
       "16  A5 -0.267138\n",
       "17  B0 -0.142537\n",
       "18  E6 -0.184621\n",
       "19  A1 -0.490936\n",
       "20  A4 -0.026897\n",
       "21  D2  0.641706\n",
       "22  C1 -0.358675\n",
       "23  B5 -0.206225\n",
       "24  D7 -0.103582\n",
       "25  A0 -0.017543\n",
       "26  E7  1.153008\n",
       "27  B1  0.186993\n",
       "28  C2  0.201370"
      ]
     },
     "metadata": {},
     "output_type": "display_data"
    }
   ],
   "source": [
    "sdf = pd.DataFrame()\n",
    "sdf['om'] = di.keys()\n",
    "\n",
    "s_li = []\n",
    "\n",
    "for key,value in di.items():\n",
    "    s = scipy.stats.skew(value)\n",
    "    s_li.append(s)\n",
    "    \n",
    "sdf['skew'] = s_li\n",
    "    \n",
    "display(sdf)"
   ]
  },
  {
   "cell_type": "code",
   "execution_count": 8,
   "metadata": {
    "collapsed": true,
    "jupyter": {
     "outputs_hidden": true
    }
   },
   "outputs": [
    {
     "data": {
      "image/png": "[encoded data removed]",
      "text/plain": [
       "<Figure size 432x288 with 1 Axes>"
      ]
     },
     "metadata": {
      "needs_background": "light"
     },
     "output_type": "display_data"
    },
    {
     "data": {
      "image/png": "[encoded data removed]",
      "text/plain": [
       "<Figure size 432x288 with 1 Axes>"
      ]
     },
     "metadata": {
      "needs_background": "light"
     },
     "output_type": "display_data"
    },
    {
     "data": {
      "image/png": "[encoded data removed]",
      "text/plain": [
       "<Figure size 432x288 with 1 Axes>"
      ]
     },
     "metadata": {
      "needs_background": "light"
     },
     "output_type": "display_data"
    },
    {
     "data": {
      "image/png": "[encoded data removed]",
      "text/plain": [
       "<Figure size 432x288 with 1 Axes>"
      ]
     },
     "metadata": {
      "needs_background": "light"
     },
     "output_type": "display_data"
    },
    {
     "data": {
      "image/png": "[encoded data removed]",
      "text/plain": [
       "<Figure size 432x288 with 1 Axes>"
      ]
     },
     "metadata": {
      "needs_background": "light"
     },
     "output_type": "display_data"
    },
    {
     "data": {
      "image/png": "[encoded data removed]",
      "text/plain": [
       "<Figure size 432x288 with 1 Axes>"
      ]
     },
     "metadata": {
      "needs_background": "light"
     },
     "output_type": "display_data"
    },
    {
     "data": {
      "image/png": "[encoded data removed]",
      "text/plain": [
       "<Figure size 432x288 with 1 Axes>"
      ]
     },
     "metadata": {
      "needs_background": "light"
     },
     "output_type": "display_data"
    },
    {
     "data": {
      "image/png": "[encoded data removed]",
      "text/plain": [
       "<Figure size 432x288 with 1 Axes>"
      ]
     },
     "metadata": {
      "needs_background": "light"
     },
     "output_type": "display_data"
    },
    {
     "data": {
      "image/png": "[encoded data removed]",
      "text/plain": [
       "<Figure size 432x288 with 1 Axes>"
      ]
     },
     "metadata": {
      "needs_background": "light"
     },
     "output_type": "display_data"
    },
    {
     "data": {
      "image/png": "[encoded data removed]",
      "text/plain": [
       "<Figure size 432x288 with 1 Axes>"
      ]
     },
     "metadata": {
      "needs_background": "light"
     },
     "output_type": "display_data"
    },
    {
     "data": {
      "image/png": "[encoded data removed]",
      "text/plain": [
       "<Figure size 432x288 with 1 Axes>"
      ]
     },
     "metadata": {
      "needs_background": "light"
     },
     "output_type": "display_data"
    },
    {
     "data": {
      "image/png": "[encoded data removed]",
      "text/plain": [
       "<Figure size 432x288 with 1 Axes>"
      ]
     },
     "metadata": {
      "needs_background": "light"
     },
     "output_type": "display_data"
    }
   ],
   "source": [
    "#  Histograms - centri\n",
    "\n",
    "colors = {'LMC_N': 'tomato', 'centri': 'deepskyblue', 'R2R5': 'lawngreen', 'R3R6': 'gold', 'R1R4': 'orange', 'LMC_1': 'slategrey', 'LMC_3': 'crimson', 'LMC_2': 'hotpink', 'R7p': 'cyan', 'R8': 'mediumorchid', 'LMC_4': 'royalblue', 'R7': 'peru'}\n",
    "\n",
    "df = dfd.loc[dfd['pre_type'] == 'centri']\n",
    "di = {}\n",
    "for index, row in df.iterrows():\n",
    "    if row['post_type'] not in di:\n",
    "        di[row['post_type']] = [row['transformed_coords']]\n",
    "    else:\n",
    "        di[row['post_type']].append(row['transformed_coords'])\n",
    "    \n",
    "for key,value in di.items():\n",
    "    sns.distplot(value, bins=30, color=colors[key], kde=False)\n",
    "    plt.xlabel(str(key))\n",
    "    plt.xlim(0, 1)\n",
    "    plt.show()"
   ]
  },
  {
   "cell_type": "code",
   "execution_count": null,
   "metadata": {},
   "outputs": [],
   "source": [
    "# Check for correct sign by comparing max untransformed coord with max transformed\n",
    "# Average over all ommatidia (divide number of coordinates by 29), shape of hist should stay the same, gives per om average\n",
    "# Print individual oms too, put subtypes together!!!!\n",
    "# Compare between subtypes - focus on L2 as pre, looks like they're all segregated, calculate skew between different subtypes!!!!\n",
    "# Calculate skew for totals, and for each om!!!!\n",
    "# Take out ones that have little data to reduce clutter\n",
    "# Look for current injection - if I inject something into the cell body, how is that different from injecting it into axon hillock"
   ]
  }
 ],
 "metadata": {
  "kernelspec": {
   "display_name": "Python 3",
   "language": "python",
   "name": "python3"
  },
  "language_info": {
   "codemirror_mode": {
    "name": "ipython",
    "version": 3
   },
   "file_extension": ".py",
   "mimetype": "text/x-python",
   "name": "python",
   "nbconvert_exporter": "python",
   "pygments_lexer": "ipython3",
   "version": "3.7.3"
  }
 },
 "nbformat": 4,
 "nbformat_minor": 4
}
